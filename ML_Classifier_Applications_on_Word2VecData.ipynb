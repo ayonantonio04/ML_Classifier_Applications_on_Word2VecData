{
 "cells": [
  {
   "cell_type": "markdown",
   "metadata": {
    "colab_type": "text",
    "id": "7AW056xS8Fau"
   },
   "source": [
    "# ML Classifer Applications on Word2Vec Data"
   ]
  },
  {
   "cell_type": "code",
   "execution_count": 2,
   "metadata": {
    "colab": {},
    "colab_type": "code",
    "id": "4vvuhWEu8Faw"
   },
   "outputs": [],
   "source": [
    "import numpy as np\n",
    "import sklearn\n",
    "import time\n",
    "import pandas as pd\n",
    "import random\n"
   ]
  },
  {
   "cell_type": "code",
   "execution_count": 3,
   "metadata": {
    "colab": {},
    "colab_type": "code",
    "id": "6XOZxwrQ8Faz"
   },
   "outputs": [],
   "source": [
    "from sklearn.neighbors import KNeighborsClassifier\n",
    "from sklearn.metrics import accuracy_score\n",
    "from sklearn.linear_model import Perceptron \n",
    "from sklearn.svm import SVC\n",
    "from sklearn.decomposition import PCA\n",
    "from sklearn.linear_model import LogisticRegression\n",
    "from sklearn.preprocessing import StandardScaler\n",
    "import os\n",
    "from sklearn.model_selection import cross_val_score, train_test_split\n",
    "from sklearn.metrics import classification_report\n",
    "import matplotlib.pyplot as plt\n",
    "import seaborn as sns\n",
    "import sklearn.metrics as metrics"
   ]
  },
  {
   "cell_type": "code",
   "execution_count": 4,
   "metadata": {
    "colab": {},
    "colab_type": "code",
    "id": "hR5S4D4j8Fa1"
   },
   "outputs": [],
   "source": [
    "def readTrainTestData(trainFile, testFile):\n",
    "    '''\n",
    "    Input: trainFile - name of training data file (str)\n",
    "            testFile - name of test data file (str)\n",
    "            \n",
    "    Returns: train_vec - training data variables (list of arrays)\n",
    "            train_lab - training data labels (list)\n",
    "            test_vec - test data variables (list of arrays)\n",
    "            test_lab - test data labels (list)\n",
    "    '''\n",
    "    \n",
    "    train_lab = list()\n",
    "    train_vec = []\n",
    "    test_lab = list()\n",
    "    test_vec = []\n",
    "\n",
    "    train_data = np.genfromtxt(trainFile)\n",
    "    test_data = np.genfromtxt(testFile)\n",
    "    \n",
    "    for ln in range(len(train_data)):\n",
    "        vals = train_data[ln]\n",
    "        label = vals[0]\n",
    "        train_lab.append(label)\n",
    "    \n",
    "        rest = vals[1:]\n",
    "        train_vec.append(rest)\n",
    "        \n",
    "    for ln2 in range(len(test_data)):\n",
    "        test_vals = test_data[ln2]\n",
    "        test_label = test_vals[0]\n",
    "        test_lab.append(test_label)\n",
    "        \n",
    "        test_rest = test_vals[1:]\n",
    "        test_vec.append(test_rest)\n",
    "        \n",
    "    \n",
    "    return train_vec, train_lab, test_vec, test_lab"
   ]
  },
  {
   "cell_type": "code",
   "execution_count": 5,
   "metadata": {
    "colab": {
     "base_uri": "https://localhost:8080/",
     "height": 84
    },
    "colab_type": "code",
    "id": "Tg9kTNO_8Fa3",
    "outputId": "f77bc78a-ed7c-4e34-bf75-8baac4e48ff5"
   },
   "outputs": [
    {
     "name": "stdout",
     "output_type": "stream",
     "text": [
      "Length of training vector: 40000\n",
      "Shape of training vector: (100,)\n",
      "Length of test vector: 10000\n",
      "Shape of test vector: (100,)\n"
     ]
    }
   ],
   "source": [
    "train_vec, train_lab, test_vec, test_lab = readTrainTestData('train_data.txt', 'test_data.txt')\n",
    "\n",
    "print('Length of training vector:', len(train_vec))\n",
    "print('Shape of training vector:',train_vec[0].shape)\n",
    "print('Length of test vector:', len(test_vec))\n",
    "print('Shape of test vector:', test_vec[0].shape)"
   ]
  },
  {
   "cell_type": "markdown",
   "metadata": {
    "colab_type": "text",
    "id": "OlfaMbgA8Fa5"
   },
   "source": [
    "## KNN classification "
   ]
  },
  {
   "cell_type": "code",
   "execution_count": 28,
   "metadata": {
    "colab": {},
    "colab_type": "code",
    "id": "5rrQYNIX8Fa6",
    "outputId": "51d57422-1eb3-48b9-d21f-8334fabf7726"
   },
   "outputs": [
    {
     "name": "stdout",
     "output_type": "stream",
     "text": [
      "KNN model accuracy  0.7336\n"
     ]
    }
   ],
   "source": [
    "#KNN with set training and test data \n",
    "def sentimentClassKNN(train_vec, train_lab, test_vec, test_lab, k, distanceMeasure):\n",
    "    # Create a KNN model\n",
    "    # Fit the training set into the model\n",
    "    # Calculate and return the prediction accuracy on test set\n",
    "    \n",
    "    KNN = KNeighborsClassifier(k, metric = distanceMeasure)\n",
    "    KNN.fit(train_vec, train_lab)\n",
    "    y_pred = KNN.predict(test_vec)\n",
    "    score = metrics.accuracy_score(test_lab, y_pred)\n",
    "    \n",
    "    return score \n",
    "\n",
    "knn_accu = sentimentClassKNN(train_vec, train_lab, test_vec, test_lab, 4, \"euclidean\")\n",
    "print('KNN model accuracy ', knn_accu)"
   ]
  },
  {
   "cell_type": "code",
   "execution_count": 0,
   "metadata": {
    "colab": {},
    "colab_type": "code",
    "id": "xQTVv5Ky8Fa8",
    "outputId": "43e2cd9f-eccc-4dee-8bca-ca37e8ecbfa1"
   },
   "outputs": [
    {
     "name": "stdout",
     "output_type": "stream",
     "text": [
      "k-value: 1  KNN accuracy 0.6859\n",
      "Time 93.9339029788971\n",
      "k-value: 2  KNN accuracy 0.6892\n",
      "Time 94.59610939025879\n",
      "k-value: 3  KNN accuracy 0.7205\n",
      "Time 94.67766547203064\n",
      "k-value: 4  KNN accuracy 0.7336\n",
      "Time 94.8067684173584\n",
      "k-value: 5  KNN accuracy 0.7455\n",
      "Time 94.60710597038269\n",
      "k-value: 6  KNN accuracy 0.7554\n",
      "Time 94.57918763160706\n"
     ]
    }
   ],
   "source": [
    "### Report: Different k & distance measure #####\n",
    "knn_vec1 = []\n",
    "k_range = range(1,7)\n",
    "for k in k_range:\n",
    "    start = time.time()\n",
    "    knn_result1 = sentimentClassKNN(train_vec, train_lab, test_vec, test_lab, k, \"euclidean\")\n",
    "    knn_vec1.append(knn_result1)\n",
    "    print('k-value:', k, ' KNN accuracy', knn_result1)\n",
    "    end = time.time()\n",
    "    \n",
    "    print('Time', end - start)"
   ]
  },
  {
   "cell_type": "code",
   "execution_count": 9,
   "metadata": {
    "colab": {},
    "colab_type": "code",
    "id": "_VN8sNiIOLHI",
    "outputId": "b7b549ec-5eb7-4714-e6b9-ef0bff10c3d8"
   },
   "outputs": [
    {
     "name": "stdout",
     "output_type": "stream",
     "text": [
      "[0.6859 0.6892 0.7205 0.7336 0.7455 0.7554]\n"
     ]
    }
   ],
   "source": [
    "## SAVED KNN VECTOR 1 \n",
    "#np.save('knn_vec1file', knn_vec1copy)\n",
    "savedknn_vec1 = np.load('knn_vec1file.npy')\n",
    "print(savedknn_vec1)"
   ]
  },
  {
   "cell_type": "code",
   "execution_count": 0,
   "metadata": {
    "colab": {},
    "colab_type": "code",
    "id": "8Sxkp_Zo8Fa9",
    "outputId": "df4c3900-f57d-4c93-8b23-a7e15586e83b"
   },
   "outputs": [
    {
     "name": "stdout",
     "output_type": "stream",
     "text": [
      "k-value: 7  KNN accuracy 0.756\n",
      "Time 98.62177062034607\n",
      "k-value: 8  KNN accuracy 0.7688\n",
      "Time 104.5870430469513\n",
      "k-value: 9  KNN accuracy 0.7649\n",
      "Time 102.63957786560059\n",
      "k-value: 10  KNN accuracy 0.7728\n",
      "Time 114.38356399536133\n",
      "k-value: 11  KNN accuracy 0.7726\n",
      "Time 107.67705488204956\n",
      "k-value: 12  KNN accuracy 0.7815\n",
      "Time 110.99570941925049\n",
      "k-value: 13  KNN accuracy 0.7781\n",
      "Time 109.79430675506592\n",
      "k-value: 14  KNN accuracy 0.7857\n",
      "Time 110.33109831809998\n"
     ]
    }
   ],
   "source": [
    "knn_vec2 = []\n",
    "for k in range(7,15):\n",
    "    start = time.time()\n",
    "    knn_result1 = sentimentClassKNN(train_vec, train_lab, test_vec, test_lab, k, \"euclidean\")\n",
    "    knn_vec2.append(knn_result1)\n",
    "    print('k-value:', k, ' KNN accuracy', knn_result1)\n",
    "    end = time.time()\n",
    "    \n",
    "    print('Time', end - start)"
   ]
  },
  {
   "cell_type": "code",
   "execution_count": 10,
   "metadata": {
    "colab": {},
    "colab_type": "code",
    "id": "naUJBK8IOLHL",
    "outputId": "53a41e98-81f6-4f9d-92c7-ad66b3ca7a6e"
   },
   "outputs": [
    {
     "name": "stdout",
     "output_type": "stream",
     "text": [
      "[0.756  0.7688 0.7649 0.7728 0.7726 0.7815 0.7781 0.7857]\n"
     ]
    }
   ],
   "source": [
    "## SAVED KNN VECTOR 2\n",
    "#np.save('knn_vec2file', knn_vec2copy)\n",
    "savedknn_vec2 = np.load('knn_vec2file.npy')\n",
    "print(savedknn_vec2)"
   ]
  },
  {
   "cell_type": "code",
   "execution_count": 0,
   "metadata": {
    "colab": {},
    "colab_type": "code",
    "id": "FTcWUz-A8FbB",
    "outputId": "ac4e123c-08c7-4004-b0a2-0ce004be8bd2"
   },
   "outputs": [
    {
     "data": {
      "text/plain": [
       "Text(0, 0.5, 'accuracy values')"
      ]
     },
     "execution_count": 45,
     "metadata": {
      "tags": []
     },
     "output_type": "execute_result"
    },
    {
     "data": {
      "image/png": "[encoded data removed]",
      "text/plain": [
       "<Figure size 432x288 with 1 Axes>"
      ]
     },
     "metadata": {
      "tags": []
     },
     "output_type": "display_data"
    }
   ],
   "source": [
    "knn_vec_tol = np.concatenate((savedknn_vec1, savedknn_vec2))\n",
    "k_vals = range(1,15)\n",
    "plt.plot(k_vals, knn_vec_tol, 'go--')\n",
    "plt.title('KNN Original Train/Test Data')\n",
    "plt.xlabel('values of k')\n",
    "plt.ylabel('accuracy values')"
   ]
  },
  {
   "cell_type": "code",
   "execution_count": 7,
   "metadata": {
    "colab": {},
    "colab_type": "code",
    "id": "7WJhR8sY8FbD"
   },
   "outputs": [],
   "source": [
    "def draw_heatmap_linear(acc, acc_desc, C_list):\n",
    "    plt.figure(figsize = (2,4))\n",
    "    ax = sns.heatmap(acc, annot=True, fmt='.3f', yticklabels=C_list, xticklabels=[])\n",
    "    ax.collections[0].colorbar.set_label(\"accuracy\")\n",
    "    ax.set(ylabel='$C$')\n",
    "    plt.title(acc_desc + ' w.r.t $C$')\n",
    "    sns.set_style(\"whitegrid\", {'axes.grid' : False})\n",
    "    plt.show()"
   ]
  },
  {
   "cell_type": "code",
   "execution_count": 20,
   "metadata": {
    "colab": {},
    "colab_type": "code",
    "id": "Uz8OFLwk8FbF"
   },
   "outputs": [],
   "source": [
    "# Combination of training and test data \n",
    "X_val = np.concatenate((train_vec, test_vec), axis=0)\n",
    "y_val = np.concatenate((train_lab, test_lab), axis = 0)"
   ]
  },
  {
   "cell_type": "code",
   "execution_count": 0,
   "metadata": {
    "colab": {},
    "colab_type": "code",
    "id": "BWsqC1Uu8FbG"
   },
   "outputs": [],
   "source": [
    "# KNN cross-validation function\n",
    "\n",
    "def cvKNN(x, y, k_values, k_vector):\n",
    "    #Cross-validate entire dataset \n",
    "    for k in k_values:\n",
    "        knn_cv = KNeighborsClassifier(n_neighbors = k)\n",
    "        scores = cross_val_score(knn_cv, x, y, cv = 5, scoring = 'accuracy')\n",
    "        k_vector.append(scores.mean())\n",
    "    return k_vector"
   ]
  },
  {
   "cell_type": "code",
   "execution_count": 0,
   "metadata": {
    "colab": {},
    "colab_type": "code",
    "id": "3xS4mnqE8FbI"
   },
   "outputs": [],
   "source": [
    "#cvKNN \n",
    "k_accu = []\n",
    "k_vals = range(1,7)\n",
    "k_scores = cvKNN(X_val, y_val, k_vals, k_accu)"
   ]
  },
  {
   "cell_type": "code",
   "execution_count": 0,
   "metadata": {
    "colab": {
     "base_uri": "https://localhost:8080/",
     "height": 34
    },
    "colab_type": "code",
    "id": "3V3G9s_14Fdj",
    "outputId": "f462dea6-6cfd-498e-a88c-56cb39acb3e8"
   },
   "outputs": [
    {
     "data": {
      "text/plain": [
       "[0.6834, 0.6888599999999999, 0.7236199999999999, 0.73268, 0.7455, 0.7561]"
      ]
     },
     "execution_count": 14,
     "metadata": {
      "tags": []
     },
     "output_type": "execute_result"
    }
   ],
   "source": [
    "k_scores"
   ]
  },
  {
   "cell_type": "code",
   "execution_count": 11,
   "metadata": {
    "colab": {},
    "colab_type": "code",
    "id": "pvLui4Dm4WLz",
    "outputId": "3176d902-25f8-4abb-fe85-c9d8beeebf54"
   },
   "outputs": [
    {
     "name": "stdout",
     "output_type": "stream",
     "text": [
      "[0.6834  0.68886 0.72362 0.73268 0.7455  0.7561 ]\n"
     ]
    }
   ],
   "source": [
    "##SAVED CV KNN PRED ACCURACIES\n",
    "#np.save('k_scorefile', k_scorevals)\n",
    "savedk_scores = np.load('k_scorefile.npy')\n",
    "print(savedk_scores)"
   ]
  },
  {
   "cell_type": "code",
   "execution_count": 0,
   "metadata": {
    "colab": {
     "base_uri": "https://localhost:8080/",
     "height": 329
    },
    "colab_type": "code",
    "id": "w31XGL9B8FbJ",
    "outputId": "971d3632-3a94-45e7-f108-09887ff6d185"
   },
   "outputs": [
    {
     "name": "stdout",
     "output_type": "stream",
     "text": [
      "[0.6834  0.68886 0.72362 0.73268 0.7455  0.7561 ]\n"
     ]
    },
    {
     "data": {
      "text/plain": [
       "Text(0, 0.5, 'accuracies: cross-validation')"
      ]
     },
     "execution_count": 54,
     "metadata": {
      "tags": []
     },
     "output_type": "execute_result"
    },
    {
     "data": {
      "image/png": "[encoded data removed]",
      "text/plain": [
       "<Figure size 432x288 with 1 Axes>"
      ]
     },
     "metadata": {
      "tags": []
     },
     "output_type": "display_data"
    }
   ],
   "source": [
    "print(savedk_scores)\n",
    "k_vals = range(1,7)\n",
    "plt.plot(k_vals, savedk_scores, 'go--')\n",
    "plt.title('KNN CV Accuracy Results')\n",
    "plt.xlabel('values of k')\n",
    "plt.ylabel('accuracies: cross-validation')\n"
   ]
  },
  {
   "cell_type": "code",
   "execution_count": 0,
   "metadata": {
    "colab": {},
    "colab_type": "code",
    "id": "BUG5bohu8FbL",
    "outputId": "033786d4-1505-46c6-850a-3f85af37913e"
   },
   "outputs": [
    {
     "data": {
      "image/png": "[encoded data removed]",
      "text/plain": [
       "<Figure size 144x288 with 2 Axes>"
      ]
     },
     "metadata": {
      "tags": []
     },
     "output_type": "display_data"
    }
   ],
   "source": [
    "#Heat maps of accuracies \n",
    "k_score_arr = np.asarray(savedk_scores)\n",
    "train_results = k_score_arr.reshape(6,1)\n",
    "accu_plot = train_results\n",
    "c_list = np.arange(1,7)\n",
    "draw_heatmap_linear(accu_plot, 'train accuracy', c_list)"
   ]
  },
  {
   "cell_type": "code",
   "execution_count": 7,
   "metadata": {
    "colab": {
     "base_uri": "https://localhost:8080/",
     "height": 34
    },
    "colab_type": "code",
    "id": "HJ0YYguT8FbN",
    "outputId": "4b561fe1-0c8b-4cd8-f69c-b338efc09257"
   },
   "outputs": [
    {
     "name": "stdout",
     "output_type": "stream",
     "text": [
      "[0.6834, 0.6888799999999999, 0.7236199999999999, 0.73268, 0.74552, 0.75612]\n"
     ]
    }
   ],
   "source": [
    "#PCA applied to cross-validated accuracies \n",
    "k_accu_pca = []\n",
    "k_range= range(1,7)\n",
    "pca = PCA()\n",
    "train_transform = pca.fit_transform(X_val)\n",
    "pca_knn = cvKNN(train_transform, y_val, k_range, k_accu_pca)\n",
    "print(pca_knn)"
   ]
  },
  {
   "cell_type": "code",
   "execution_count": 6,
   "metadata": {
    "colab": {},
    "colab_type": "code",
    "id": "wqpSw2oSUfJ6"
   },
   "outputs": [
    {
     "name": "stdout",
     "output_type": "stream",
     "text": [
      "[0.6834  0.68888 0.72362 0.73268 0.74552 0.75612]\n"
     ]
    }
   ],
   "source": [
    "##SAVED CV & PCA ACCURACIES FOR K VALUES  \n",
    "#np.save('k_score_pcafile', pca_knn_copy)\n",
    "savedpca_knn = np.load('k_score_pcafile.npy')\n",
    "print(savedpca_knn)"
   ]
  },
  {
   "cell_type": "code",
   "execution_count": 15,
   "metadata": {
    "colab": {},
    "colab_type": "code",
    "id": "fKxJAIjC8FbP",
    "outputId": "7b20b726-eda1-4865-9ebe-108f32433957"
   },
   "outputs": [
    {
     "name": "stdout",
     "output_type": "stream",
     "text": [
      "PCA HAD NO CHANGE ON DATA ACCURACY RESULTS\n"
     ]
    },
    {
     "data": {
      "image/png": "[encoded data removed]",
      "text/plain": [
       "<Figure size 144x288 with 2 Axes>"
      ]
     },
     "metadata": {},
     "output_type": "display_data"
    }
   ],
   "source": [
    "#Heat maps of accuracies \n",
    "print('PCA HAD NO CHANGE ON DATA ACCURACY RESULTS')\n",
    "train_results = savedpca_knn.reshape(6,1)\n",
    "accu_plot = train_results\n",
    "c_list = np.arange(1,7)\n",
    "draw_heatmap_linear(accu_plot, 'train accuracy', c_list)"
   ]
  },
  {
   "cell_type": "code",
   "execution_count": 14,
   "metadata": {
    "colab": {},
    "colab_type": "code",
    "id": "yQL9-25Cm-Xn",
    "outputId": "2fe76ad0-db5f-4188-d41b-210d2cc483c5"
   },
   "outputs": [
    {
     "data": {
      "image/png": "[encoded data removed]",
      "text/plain": [
       "<Figure size 864x432 with 1 Axes>"
      ]
     },
     "metadata": {},
     "output_type": "display_data"
    }
   ],
   "source": [
    "x_side = np.arange(1,7)\n",
    "savedknn_vec1_arr = savedknn_vec1.reshape(6,1)\n",
    "savedknn_cv = savedk_scores.reshape(6,1)\n",
    "# nonreg_pca = ppn_pca_arr.reshape(14,1)\n",
    "\n",
    "\n",
    "plt.figure(figsize=(12,6))\n",
    "plt.grid()\n",
    "plt.plot(x_side, savedknn_vec1_arr,'r', label = 'Given Train & Test Data')\n",
    "plt.plot(x_side, savedknn_cv, 'g', label = 'Cross-Validated')\n",
    "plt.ylabel('Accuracy Value')\n",
    "plt.xlabel('K Times')\n",
    "plt.legend()\n",
    "plt.show()"
   ]
  },
  {
   "cell_type": "markdown",
   "metadata": {
    "colab_type": "text",
    "id": "QqY2GVrW8FbQ"
   },
   "source": [
    "## Perceptron Classifier"
   ]
  },
  {
   "cell_type": "code",
   "execution_count": 21,
   "metadata": {
    "colab": {},
    "colab_type": "code",
    "id": "CAVKhQoP8FbR"
   },
   "outputs": [],
   "source": [
    "#Perceptron \n",
    "def sentimentClassPerceptron(train_vec, train_lab, test_vec, test_lab, n):\n",
    "    # Create a Perceptron model\n",
    "    # Fit the training set into the model\n",
    "    # Calculate and return the prediction accuracy on test set\n",
    "    # YOUR CODE HERE\n",
    "    \n",
    "    PCT = Perceptron(max_iter = n, tol=1e-3, eta0 = 0.01, random_state = 0)\n",
    "    PCT.fit(train_vec, train_lab)\n",
    "    y_pred = PCT.predict(test_vec)\n",
    "    score = metrics.accuracy_score(test_lab, y_pred)\n",
    "    \n",
    "    return score\n",
    "    \n"
   ]
  },
  {
   "cell_type": "code",
   "execution_count": 22,
   "metadata": {
    "colab": {
     "base_uri": "https://localhost:8080/",
     "height": 34
    },
    "colab_type": "code",
    "id": "ZmgQ4hin8FbS",
    "outputId": "22b5bd2a-6d65-4bd3-8ad4-cdf948454402"
   },
   "outputs": [
    {
     "name": "stdout",
     "output_type": "stream",
     "text": [
      "Perceptron Model Accuracy  0.8059\n"
     ]
    }
   ],
   "source": [
    "pct_accu = sentimentClassPerceptron(train_vec, train_lab, test_vec, test_lab, 400000)\n",
    "print('Perceptron Model Accuracy ', pct_accu)"
   ]
  },
  {
   "cell_type": "code",
   "execution_count": 0,
   "metadata": {
    "colab": {},
    "colab_type": "code",
    "id": "N0bIhRpK8FbU"
   },
   "outputs": [],
   "source": [
    "#Computes accuracy score based on predicted and actual label values\n",
    "def accuracy_eval(results, real):\n",
    "    pred = np.array(results)\n",
    "    lab = np.array(real)\n",
    "    return float((pred == lab).sum()) / lab.size\n",
    "\n",
    "class Perceptron_alg: \n",
    "    \n",
    "    def _init_(self):\n",
    "        pass\n",
    "    \n",
    "    def train(self, X, Y, epochs):\n",
    "        self.learning_rate = 0.01\n",
    "        #Creates vector with 100 different weights \n",
    "        self.weights = [random.uniform(-1.0,1.0) for i in range(len(X[0]))]\n",
    "        bias = 0.1\n",
    "        self.weights.append(bias)\n",
    "        self.mse_vec = []\n",
    "        \n",
    "        #Iterations over entire dataset based on epochs\n",
    "        for _ in range(epochs):\n",
    "            for i in range(len(X)):\n",
    "                #Predicts label of each vector\n",
    "                predictedValue = self.training_classifier(X[i])\n",
    "                diff = Y[i] - predictedValue\n",
    "                z = diff\n",
    "                #Case real and pred value do not match\n",
    "                if diff != 0:\n",
    "                    if Y[i] == 0:\n",
    "                        z = -0.01\n",
    "                    else:\n",
    "                        z = 0.01\n",
    "                        \n",
    "                squared_diff = (diff)**2\n",
    "                self.mse_vec.append(np.sum(squared_diff))\n",
    "                \n",
    "                    \n",
    "                \n",
    "                #Weights will update depending if pred and real did not match\n",
    "                for j in range(len(X[i])):\n",
    "                    self.weights[j] = round((self.weights[j] + self.learning_rate* z* X[i][j]),5)\n",
    "                    \n",
    "    # @Return the label (0 or 1) of each vector in training data\n",
    "    def training_classifier(self, X):\n",
    "        summation = 0\n",
    "        for i in range(len(X)):\n",
    "            \n",
    "            summation += (X[i]*self.weights[i])\n",
    "        #Based on sum of weights and vec values determines label\n",
    "        activation = (self.output_val(summation))\n",
    "        return activation\n",
    "    \n",
    "    # @Return label (0 or 1) using the sigmoid function \n",
    "    def predict(self, X):\n",
    "        activation = [] \n",
    "        #iterates through each vector\n",
    "        for i in range(len(X)):\n",
    "            summation = 0\n",
    "            for j in range(len(X[i])):\n",
    "                #sums of multiplied updated weights and vector val\n",
    "                summation += (X[i][j]*self.weights[j])\n",
    "            #label vector based on sigmoid function\n",
    "            activation.append(round(self.sigmoid(summation)))\n",
    "    \n",
    "        return activation\n",
    "    \n",
    "    \n",
    "    def sigmoid(self, x):\n",
    "        return 1/(1 + np.exp(-x))\n",
    "    \n",
    "    def output_val(self, x):\n",
    "        if x>0:\n",
    "            return 1\n",
    "        else: \n",
    "            return 0\n",
    "    # MSE  \n",
    "    def mse_func(self, y):\n",
    "        mse_results = []\n",
    "        y_length = len(y)\n",
    "        for i in range(len(self.mse_vec)):\n",
    "            prod = (self.mse_vec[i]) / y_length\n",
    "            mse_results.append(prod)\n",
    "        return mse_results"
   ]
  },
  {
   "cell_type": "code",
   "execution_count": 0,
   "metadata": {
    "colab": {},
    "colab_type": "code",
    "id": "RRbx7xHo8FbV"
   },
   "outputs": [],
   "source": [
    "ppn_model = Perceptron_alg()"
   ]
  },
  {
   "cell_type": "code",
   "execution_count": 0,
   "metadata": {
    "colab": {},
    "colab_type": "code",
    "id": "NqXIbyug8FbZ"
   },
   "outputs": [],
   "source": [
    "\n",
    "ep_list = range(1,15)\n",
    "ppn_accuracy = []\n",
    "for i in ep_list:\n",
    "    train_it = ppn_model.train(train_vec, train_lab, i)\n",
    "    prediction = ppn_model.predict(test_vec)\n",
    "    acc = accuracy_eval(prediction, test_lab)\n",
    "    ppn_accuracy.append(acc)\n",
    "  "
   ]
  },
  {
   "cell_type": "code",
   "execution_count": 0,
   "metadata": {
    "colab": {
     "base_uri": "https://localhost:8080/",
     "height": 252
    },
    "colab_type": "code",
    "id": "B0nZXYpH8Fbb",
    "outputId": "bbadb8a6-2c58-463e-c906-959bf72b0b8d"
   },
   "outputs": [
    {
     "data": {
      "text/plain": [
       "[0.5253,\n",
       " 0.5814,\n",
       " 0.6372,\n",
       " 0.6793,\n",
       " 0.6729,\n",
       " 0.7349,\n",
       " 0.7287,\n",
       " 0.7361,\n",
       " 0.744,\n",
       " 0.7443,\n",
       " 0.7316,\n",
       " 0.7394,\n",
       " 0.7126,\n",
       " 0.7273]"
      ]
     },
     "execution_count": 18,
     "metadata": {
      "tags": []
     },
     "output_type": "execute_result"
    }
   ],
   "source": [
    "ppn_accuracy"
   ]
  },
  {
   "cell_type": "code",
   "execution_count": 23,
   "metadata": {
    "colab": {},
    "colab_type": "code",
    "id": "OGzjjclnOLHr",
    "outputId": "6de740d8-faa0-4860-82df-ecc551b38d7e"
   },
   "outputs": [
    {
     "name": "stdout",
     "output_type": "stream",
     "text": [
      "[0.5253 0.5814 0.6372 0.6793 0.6729 0.7349 0.7287 0.7361 0.744  0.7443\n",
      " 0.7316 0.7394 0.7126 0.7273]\n"
     ]
    }
   ],
   "source": [
    "## Saved predicted ppn accuracies after modeled trained \n",
    "\n",
    "# np.save('ppn_accu_file', ppn_accuracy_copy)\n",
    "savedppn_accuracy = np.load('ppn_accu_file.npy')\n",
    "print(savedppn_accuracy)"
   ]
  },
  {
   "cell_type": "code",
   "execution_count": 0,
   "metadata": {
    "colab": {},
    "colab_type": "code",
    "id": "d1ARwDI0azzd"
   },
   "outputs": [],
   "source": [
    "def draw_heatmap_linear2(acc, acc_desc, C_list):\n",
    "    plt.figure(figsize = (3,5))\n",
    "    ax = sns.heatmap(acc, annot=True, fmt='.3f', yticklabels=C_list, xticklabels=[])\n",
    "    ax.collections[0].colorbar.set_label(\"accuracy\")\n",
    "    ax.set(ylabel='$epoch$')\n",
    "    plt.title(acc_desc + ' w.r.t $epoch$')\n",
    "    sns.set_style(\"whitegrid\", {'axes.grid' : False})\n",
    "    plt.show()"
   ]
  },
  {
   "cell_type": "code",
   "execution_count": 0,
   "metadata": {
    "colab": {
     "base_uri": "https://localhost:8080/",
     "height": 329
    },
    "colab_type": "code",
    "id": "yuTmdZwuZc8u",
    "outputId": "733ff2d4-19bb-4c62-ff3c-bfc96ffda20e"
   },
   "outputs": [
    {
     "data": {
      "image/png": "[encoded data removed]",
      "text/plain": [
       "<Figure size 216x360 with 2 Axes>"
      ]
     },
     "metadata": {
      "tags": []
     },
     "output_type": "display_data"
    }
   ],
   "source": [
    "#Heat maps of accuracies \n",
    "ppn_array = np.asarray(savedppn_accuracy)\n",
    "train_results = ppn_array.reshape(14,1)\n",
    "accu_plot = train_results\n",
    "c_list = np.arange(1,15)\n",
    "draw_heatmap_linear2(accu_plot, 'train accuracy', c_list)\n"
   ]
  },
  {
   "cell_type": "code",
   "execution_count": 0,
   "metadata": {
    "colab": {
     "base_uri": "https://localhost:8080/",
     "height": 54
    },
    "colab_type": "code",
    "id": "sfnuucPS8Fbd",
    "outputId": "92dc6010-e91d-4dc1-e726-78e078d549fc"
   },
   "outputs": [
    {
     "name": "stdout",
     "output_type": "stream",
     "text": [
      "[0.264324999999975, 0.2450249999999771, 0.20269999999998176, 0.17522499999998478, 0.1559749999999869, 0.14274999999998836, 0.13224999999998951, 0.12384999999999044, 0.11649999999999125, 0.11022499999999194, 0.10464999999999255, 0.09904999999999317, 0.09402499999999372, 0.08917499999999426]\n"
     ]
    }
   ],
   "source": [
    "\n",
    "# Mean Squared Error\n",
    "mse_vals = ppn_model.mse_func(train_lab)\n",
    "ep = 40000\n",
    "previous = 0\n",
    "mse_dec = []\n",
    "while ep <= len(mse_vals): \n",
    "    epoch_num = sum(mse_vals[previous:ep-1])\n",
    "    mse_dec.append(epoch_num)\n",
    "    previous = ep\n",
    "    ep += 40000\n",
    "\n",
    "print(mse_dec)"
   ]
  },
  {
   "cell_type": "code",
   "execution_count": 24,
   "metadata": {
    "colab": {},
    "colab_type": "code",
    "id": "PuliA2NeOLH-"
   },
   "outputs": [
    {
     "name": "stdout",
     "output_type": "stream",
     "text": [
      "[0.264325 0.245025 0.2027   0.175225 0.155975 0.14275  0.13225  0.12385\n",
      " 0.1165   0.110225 0.10465  0.09905  0.094025 0.089175]\n"
     ]
    }
   ],
   "source": [
    "## SAVED PPN REG. MSE VALUES PER EPOCH [1,15]\n",
    "#np.save('ppn_msefile', mse_ppncopy)\n",
    "\n",
    "savedppn_mse = np.load('ppn_msefile.npy')\n",
    "print(savedppn_mse)"
   ]
  },
  {
   "cell_type": "code",
   "execution_count": 0,
   "metadata": {
    "colab": {
     "base_uri": "https://localhost:8080/",
     "height": 312
    },
    "colab_type": "code",
    "id": "25A5xnVFKzj_",
    "outputId": "4b63e1c5-dce6-4931-f98a-928a58e8aca9"
   },
   "outputs": [
    {
     "data": {
      "text/plain": [
       "Text(0, 0.5, 'Mean Square Error')"
      ]
     },
     "execution_count": 15,
     "metadata": {
      "tags": []
     },
     "output_type": "execute_result"
    },
    {
     "data": {
      "image/png": "[encoded data removed]",
      "text/plain": [
       "<Figure size 432x288 with 1 Axes>"
      ]
     },
     "metadata": {
      "tags": []
     },
     "output_type": "display_data"
    }
   ],
   "source": [
    "ep_list = range(1,15)\n",
    "plt.grid()\n",
    "plt.plot(ep_list, savedppn_mse, 'go--')\n",
    "plt.title('Perceptron: MSE vs Epoch')\n",
    "plt.xlabel('number of epochs')\n",
    "plt.ylabel('Mean Square Error')"
   ]
  },
  {
   "cell_type": "code",
   "execution_count": 0,
   "metadata": {
    "colab": {},
    "colab_type": "code",
    "id": "nsLvppyQ8Fbf"
   },
   "outputs": [],
   "source": [
    "#Cross validation Perceptron \n",
    "#Run until find best epoch - or even best epoch range \n",
    "ppn_cv_accuracy = []\n",
    "slct_epoch = [8, 9, 10, 11]\n",
    "for n in slct_epoch:\n",
    "    for t in range(3):\n",
    "        X_train, X_test, y_train, y_test = train_test_split(X_val, y_val, test_size = 0.25)\n",
    "\n",
    "        train_it = ppn_model.train(X_train, y_train, n)\n",
    "        prediction = ppn_model.predict(X_test)\n",
    "        acc = accuracy_eval(prediction, y_test)\n",
    "        ppn_cv_accuracy.append(acc)\n",
    "\n"
   ]
  },
  {
   "cell_type": "code",
   "execution_count": 0,
   "metadata": {
    "colab": {},
    "colab_type": "code",
    "id": "a7qMrZrDobMj"
   },
   "outputs": [],
   "source": [
    "previous = 0\n",
    "i = 3\n",
    "avg_epochs = []\n",
    "while i <= len(ppn_cv_accuracy):\n",
    "    ep_num = ppn_cv_accuracy[previous:i-1]\n",
    "    ep_avg = np.mean(ep_num)\n",
    "    avg_epochs.append(ep_avg)\n",
    "    previous = i\n",
    "    i += 3\n",
    "print('Average CV Accuracy for Epochs {8,9,10,11} --', avg_epochs)\n"
   ]
  },
  {
   "cell_type": "code",
   "execution_count": 25,
   "metadata": {
    "colab": {},
    "colab_type": "code",
    "id": "bXFE4_gxsxJf"
   },
   "outputs": [
    {
     "name": "stdout",
     "output_type": "stream",
     "text": [
      "[0.84608 0.85192 0.85308 0.85892]\n"
     ]
    }
   ],
   "source": [
    "# SAVED SELECTED EPOCHS CV APPLIED \n",
    "##np.save('ppncv_epochs', avg_epochscopy)\n",
    "savedavg_epochs = np.load('ppncv_epochs.npy')\n",
    "print(savedavg_epochs)"
   ]
  },
  {
   "cell_type": "code",
   "execution_count": 0,
   "metadata": {
    "colab": {},
    "colab_type": "code",
    "id": "A6ZqJP-lOLIL",
    "outputId": "d68e9ead-6a49-4e18-da5f-1423236ab27e"
   },
   "outputs": [
    {
     "data": {
      "image/png": "[encoded data removed]",
      "text/plain": [
       "<Figure size 144x288 with 2 Axes>"
      ]
     },
     "metadata": {
      "tags": []
     },
     "output_type": "display_data"
    }
   ],
   "source": [
    "ppn_acc = np.asarray(savedavg_epochs)\n",
    "train_results = ppn_acc.reshape(4,1)\n",
    "accu_plot = train_results\n",
    "c_list = np.arange(1,5)\n",
    "draw_heatmap_linear(accu_plot, 'train accuracy', c_list)\n"
   ]
  },
  {
   "cell_type": "code",
   "execution_count": 0,
   "metadata": {
    "colab": {},
    "colab_type": "code",
    "id": "veZCE7qY8Fbk"
   },
   "outputs": [],
   "source": [
    "###### Report: PCA + Perceptron different epoch iteration #########\n",
    "###Potential add standard scaler as later comparison (not here)\n",
    "\n",
    "pca = PCA()\n",
    "train_transform = pca.fit_transform(train_vec)\n",
    "ppn_pca_accuracy = []\n",
    "for i in ep_list:\n",
    " \n",
    "    pca_ppn = ppn_model.train(train_transform, train_lab, i)\n",
    "    prediction = ppn_model.predict(test_vec)\n",
    "    acc = accuracy_eval(prediction, test_lab)\n",
    "    ppn_pca_accuracy.append(acc)"
   ]
  },
  {
   "cell_type": "code",
   "execution_count": 0,
   "metadata": {
    "colab": {
     "base_uri": "https://localhost:8080/",
     "height": 252
    },
    "colab_type": "code",
    "id": "B3zR-myg6-yY",
    "outputId": "71e2e397-0d74-4090-a988-907be736ba4e"
   },
   "outputs": [
    {
     "data": {
      "text/plain": [
       "[0.4398,\n",
       " 0.4919,\n",
       " 0.4218,\n",
       " 0.4173,\n",
       " 0.5054,\n",
       " 0.4563,\n",
       " 0.4875,\n",
       " 0.5223,\n",
       " 0.5171,\n",
       " 0.4995,\n",
       " 0.4985,\n",
       " 0.5118,\n",
       " 0.5032,\n",
       " 0.4915]"
      ]
     },
     "execution_count": 69,
     "metadata": {
      "tags": []
     },
     "output_type": "execute_result"
    }
   ],
   "source": [
    "ppn_pca_accuracy"
   ]
  },
  {
   "cell_type": "code",
   "execution_count": 26,
   "metadata": {
    "colab": {},
    "colab_type": "code",
    "id": "WDrgl6p8vuKI"
   },
   "outputs": [
    {
     "name": "stdout",
     "output_type": "stream",
     "text": [
      "[0.4398 0.4919 0.4218 0.4173 0.5054 0.4563 0.4875 0.5223 0.5171 0.4995\n",
      " 0.4985 0.5118 0.5032 0.4915]\n"
     ]
    }
   ],
   "source": [
    "## SAVED PPN PRED. ACCURACIES W/ PCA APPLIED\n",
    "#np.save('ppn_pca_accuracy_file', ppn_pca_accuracy_copy)\n",
    "\n",
    "savedppn_pca_accu = np.load('ppn_pca_accuracy_file.npy')\n",
    "print(savedppn_pca_accu)"
   ]
  },
  {
   "cell_type": "code",
   "execution_count": 0,
   "metadata": {
    "colab": {
     "base_uri": "https://localhost:8080/",
     "height": 388
    },
    "colab_type": "code",
    "id": "JO5I3i1g8Fbn",
    "outputId": "3a56f95e-3986-4279-cfd1-5d5670852012"
   },
   "outputs": [
    {
     "data": {
      "image/png": "[encoded data removed]",
      "text/plain": [
       "<Figure size 864x432 with 1 Axes>"
      ]
     },
     "metadata": {
      "tags": []
     },
     "output_type": "display_data"
    }
   ],
   "source": [
    "#Plot Perceptron: Non and PCA applied \n",
    "x_side = np.arange(1,15)\n",
    "reg_ppn = ppn_array.reshape(14,1)\n",
    "ppn_pca_arr = np.asarray(savedppn_pca_accu)\n",
    "nonreg_pca = ppn_pca_arr.reshape(14,1)\n",
    "\n",
    "\n",
    "plt.figure(figsize=(12,6))\n",
    "plt.grid()\n",
    "plt.plot(x_side, reg_ppn,'r', label = 'Given Train & Test Data')\n",
    "plt.plot(x_side, nonreg_pca, 'g', label = 'PCA Applied')\n",
    "#plt.plot(n_listcv, pca_pct,'b', label = 'PCA + Cross-Validated')\n",
    "plt.ylabel('Accuracy Value')\n",
    "plt.xlabel('Number of Epochs')\n",
    "plt.legend()\n",
    "plt.show()"
   ]
  },
  {
   "cell_type": "markdown",
   "metadata": {},
   "source": [
    "## SVM Classifier"
   ]
  },
  {
   "cell_type": "code",
   "execution_count": 0,
   "metadata": {
    "colab": {},
    "colab_type": "code",
    "id": "EVt-wGgo8Fbq",
    "outputId": "e32e93fb-148d-408c-8d53-7c7dd773225b"
   },
   "outputs": [
    {
     "name": "stdout",
     "output_type": "stream",
     "text": [
      "SVM Accuracy: 0.8688\n"
     ]
    }
   ],
   "source": [
    "# SVM for set data \n",
    "SVC_class = SVC(kernel = 'linear')\n",
    "SVC_class.fit(train_vec, train_lab)\n",
    "y_predSVC = SVC_class.predict(test_vec)\n",
    "svm_accuracy = metrics.accuracy_score(test_lab, y_predSVC)\n",
    "print('SVM Accuracy:', svm_accuracy)"
   ]
  },
  {
   "cell_type": "code",
   "execution_count": 16,
   "metadata": {
    "colab": {},
    "colab_type": "code",
    "id": "4iPfEGxMoS51"
   },
   "outputs": [
    {
     "name": "stdout",
     "output_type": "stream",
     "text": [
      "0.8688\n"
     ]
    }
   ],
   "source": [
    "## SAVED SVM ACCURACY FOR GIVEN DATA\n",
    "#np.save('svm_accufile', svm_accu)\n",
    "savedsvm_accu = np.load('svm_accufile.npy')\n",
    "print(savedsvm_accu)"
   ]
  },
  {
   "cell_type": "code",
   "execution_count": 0,
   "metadata": {
    "colab": {
     "base_uri": "https://localhost:8080/",
     "height": 34
    },
    "colab_type": "code",
    "id": "ep9eIMPf8Fbt",
    "outputId": "13e0679c-2ec6-4772-a1a9-74759d36775f"
   },
   "outputs": [
    {
     "name": "stdout",
     "output_type": "stream",
     "text": [
      "Cross-Validated SVM Accuracy: 0.8624\n"
     ]
    }
   ],
   "source": [
    "#SVM: Cross-Validate data\n",
    "svc_class = SVC(kernel = 'linear')\n",
    "svc_scores = cross_val_score(svc_class, X_val, y_val, cv=5, scoring = 'accuracy')\n",
    "svmcv_accu = svc_scores.mean()\n",
    "print('Cross-Validated SVM Accuracy:', svmcv_accu)"
   ]
  },
  {
   "cell_type": "code",
   "execution_count": 17,
   "metadata": {
    "colab": {},
    "colab_type": "code",
    "id": "V5z3TcuKoBG-"
   },
   "outputs": [
    {
     "name": "stdout",
     "output_type": "stream",
     "text": [
      "0.8624\n"
     ]
    }
   ],
   "source": [
    "## SAVED CV SVM ACCURACY VALUE\n",
    "#np.save('cv_svm_accufile', cv_svm_accu)\n",
    "savedcv_svm_accu = np.load('cv_svm_accufile.npy')\n",
    "print(savedcv_svm_accu)"
   ]
  },
  {
   "cell_type": "markdown",
   "metadata": {},
   "source": [
    "## Logistic Regression Classifier"
   ]
  },
  {
   "cell_type": "code",
   "execution_count": 19,
   "metadata": {
    "colab": {},
    "colab_type": "code",
    "id": "mlWLxa-M8Fbw",
    "outputId": "5cae07d7-80b2-4e1c-8d69-8af22b66a9a9"
   },
   "outputs": [
    {
     "name": "stdout",
     "output_type": "stream",
     "text": [
      "Logistic Regression Accuracy: 0.8675\n",
      "              precision    recall  f1-score   support\n",
      "\n",
      "         0.0       0.87      0.87      0.87      5000\n",
      "         1.0       0.87      0.86      0.87      5000\n",
      "\n",
      "   micro avg       0.87      0.87      0.87     10000\n",
      "   macro avg       0.87      0.87      0.87     10000\n",
      "weighted avg       0.87      0.87      0.87     10000\n",
      "\n"
     ]
    }
   ],
   "source": [
    "# Logistic Regression for set data \n",
    "logRegression = LogisticRegression(solver = 'lbfgs')\n",
    "logRegression.fit(train_vec, train_lab)\n",
    "ypred_log = logRegression.predict(test_vec)\n",
    "lr_accuracy = metrics.accuracy_score(test_lab, ypred_log)\n",
    "print('Logistic Regression Accuracy:', lr_accuracy)\n",
    "\n",
    "print(classification_report(test_lab, ypred_log))"
   ]
  },
  {
   "cell_type": "code",
   "execution_count": 0,
   "metadata": {
    "colab": {},
    "colab_type": "code",
    "id": "Kfoa_-aM8Fbx",
    "outputId": "c2928b14-adfc-4b76-b08f-d389e336b5b0"
   },
   "outputs": [
    {
     "name": "stdout",
     "output_type": "stream",
     "text": [
      "Cross-Validated LR Accuracy: 0.86176\n"
     ]
    }
   ],
   "source": [
    "# Logistic Regression + Cross-validation \n",
    "logRegression = LogisticRegression(solver = 'lbfgs')\n",
    "lr_scores = cross_val_score(logRegression, X_val, y_val, cv=5, scoring = 'accuracy')\n",
    "lrcv_accu = lr_scores.mean()\n",
    "print('Cross-Validated LR Accuracy:', lrcv_accu)"
   ]
  },
  {
   "cell_type": "code",
   "execution_count": 18,
   "metadata": {},
   "outputs": [
    {
     "name": "stdout",
     "output_type": "stream",
     "text": [
      "0.86176\n"
     ]
    }
   ],
   "source": [
    "## SAVED CV LR ACCURACY \n",
    "#np.save('lrcv_accufile', lrcv_accucopy)\n",
    "savedlrcv_accu = np.load('lrcv_accufile.npy')\n",
    "print(savedlrcv_accu)"
   ]
  },
  {
   "cell_type": "markdown",
   "metadata": {},
   "source": [
    "## Visual Summary for Accuracy Results"
   ]
  },
  {
   "cell_type": "code",
   "execution_count": 29,
   "metadata": {
    "colab": {},
    "colab_type": "code",
    "id": "W70A776S8Fb2",
    "outputId": "d4326198-5405-4e18-c580-887ac75b0188"
   },
   "outputs": [
    {
     "data": {
      "image/png": "[encoded data removed]",
      "text/plain": [
       "<Figure size 432x288 with 1 Axes>"
      ]
     },
     "metadata": {},
     "output_type": "display_data"
    }
   ],
   "source": [
    "#knn - highest accuracy set data \n",
    "##knn - highest accracuracy cv \n",
    "#PCT - highest accuracy set data \n",
    "##PCT - highest accuracy cv \n",
    "#svm - highest accuracy set data \n",
    "## svm - highest accuracy cv \n",
    "# LR - highest accuracy set data \n",
    "## LR - highest accuracy cv \n",
    "\n",
    "n_groups = 4 \n",
    "accu_highset = (lr_accuracy, savedsvm_accu, pct_accu, knn_accu)\n",
    "accu_highcv = (savedlrcv_accu, savedcv_svm_accu, max(savedavg_epochs), max(savedk_scores))\n",
    "\n",
    "fig, ax = plt.subplots()\n",
    "index = np.arange(n_groups)\n",
    "bar_width = 0.35\n",
    "opacity = 0.8\n",
    "\n",
    "leftbar = plt.bar(index, accu_highset, bar_width, alpha = opacity, color = 'r', label = 'Set Data')\n",
    "rightbar = plt.bar(index + bar_width, accu_highcv, bar_width, alpha = opacity, color='c', label = 'CV Data')\n",
    "plt.ylabel('Accuracy Value')\n",
    "plt.xticks(index+bar_width, ('LR', 'SVM', 'PPN', 'KNN'))\n",
    "plt.title('ML Classifier Accuracy Comparison')\n",
    "plt.legend()\n",
    "plt.tight_layout()\n",
    "plt.show()"
   ]
  },
  {
   "cell_type": "code",
   "execution_count": 0,
   "metadata": {
    "colab": {},
    "colab_type": "code",
    "id": "rlPQXXY28Fb9"
   },
   "outputs": [],
   "source": []
  }
 ],
 "metadata": {
  "accelerator": "GPU",
  "colab": {
   "collapsed_sections": [],
   "name": "Own_Sentiment_Analysis_colab3.ipynb",
   "provenance": []
  },
  "kernelspec": {
   "display_name": "Python 3",
   "language": "python",
   "name": "python3"
  },
  "language_info": {
   "codemirror_mode": {
    "name": "ipython",
    "version": 3
   },
   "file_extension": ".py",
   "mimetype": "text/x-python",
   "name": "python",
   "nbconvert_exporter": "python",
   "pygments_lexer": "ipython3",
   "version": "3.7.1"
  }
 },
 "nbformat": 4,
 "nbformat_minor": 1
}
